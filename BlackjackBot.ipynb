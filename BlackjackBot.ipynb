{
 "cells": [
  {
   "cell_type": "code",
   "execution_count": 1,
   "id": "359da6e8-e424-4f58-aad4-51ea9e236cce",
   "metadata": {},
   "outputs": [
    {
     "name": "stdin",
     "output_type": "stream",
     "text": [
      "Quit? (q) ->  q\n"
     ]
    }
   ],
   "source": [
    "# play blackjack (no ace)\n",
    "\n",
    "import random\n",
    "from IPython.display import clear_output\n",
    "\n",
    "def add_card():\n",
    "    return random.randint(2, 10)\n",
    "\n",
    "# Blackjack - I wanna play against a bot.\n",
    "print(\"WELCOME TO BLACKJACK\\n\\\"a\\\" for hit, \\\"d\\\" for stand\")\n",
    "while True:\n",
    "    choice = input(\"Quit? (q) -> \")\n",
    "    if choice == \"q\":\n",
    "        break\n",
    "    game_end = False\n",
    "    player = add_card() + add_card() # player two cards\n",
    "    enemy = add_card() # enemy card\n",
    "    print(f\"Your total: {player}. Enemy card: {enemy}\")\n",
    "    valid_choices = [\"h\",\"s\"]\n",
    "    choice = \"\"\n",
    "    while choice not in valid_choices: # player choice here\n",
    "        choice = input(\"Hit (h) or stand (s) -> \")\n",
    "        if choice == \"h\":\n",
    "            player += add_card()\n",
    "            print(f\"Your new total: {player}\")\n",
    "            if player > 21:\n",
    "                print(\"YOU LOSE\")\n",
    "                game_end = True\n",
    "                break\n",
    "            choice = \"\"\n",
    "        else:\n",
    "            break\n",
    "    # by here, either player has gone above 21 / or have played stand\n",
    "    # enemy choice here\n",
    "    while enemy < 17:\n",
    "        enemy += add_card()\n",
    "        print(f\"Enemy new total: {enemy}\")\n",
    "        if enemy > 21:\n",
    "            print(\"YOU WIN\")\n",
    "            game_end = True\n",
    "            break\n",
    "    \n",
    "    # check which player won\n",
    "    if not game_end:\n",
    "        print(f\"Totals:\\n Player: {player}\\n Enemy: {enemy}\\n\\n\")\n",
    "        if player > enemy:\n",
    "            print(\"YOU WIN\")\n",
    "        elif player < enemy:\n",
    "            print(\"YOU LOSE\")\n",
    "        else:\n",
    "            print(\"YOU DRAW\")\n",
    "    print(\"\\n\\n\\n\\n\\n\")\n",
    "    clear_output(wait=True)"
   ]
  }
 ],
 "metadata": {
  "kernelspec": {
   "display_name": "Python 3 (ipykernel)",
   "language": "python",
   "name": "python3"
  },
  "language_info": {
   "codemirror_mode": {
    "name": "ipython",
    "version": 3
   },
   "file_extension": ".py",
   "mimetype": "text/x-python",
   "name": "python",
   "nbconvert_exporter": "python",
   "pygments_lexer": "ipython3",
   "version": "3.10.9"
  }
 },
 "nbformat": 4,
 "nbformat_minor": 5
}
